{
 "cells": [
  {
   "cell_type": "markdown",
   "id": "46c22fbc",
   "metadata": {},
   "source": [
    "# <center>Computer Application in Engineering Design Lab\n",
    "## <center>Lab 8, BCE Fall 2021\n",
    "### *Submitted by: Umar Mustafa*\n",
    "### *Id: 200365*\n",
    "### Date: 6-Dec-2021"
   ]
  },
  {
   "cell_type": "markdown",
   "id": "bb250539",
   "metadata": {},
   "source": [
    "### Task 1"
   ]
  },
  {
   "cell_type": "code",
   "execution_count": 2,
   "id": "8f619161",
   "metadata": {},
   "outputs": [
    {
     "name": "stdout",
     "output_type": "stream",
     "text": [
      "Billing Amount: $4000\n",
      "Please Enter Amount for paying: $2000\n",
      "Your Penalty is: $200.0\n",
      "Your Balance after penalty is: $800.0\n"
     ]
    }
   ],
   "source": [
    "BillingAmount = int(input(\"Billing Amount: $\"))\n",
    "PaidAmount =  int(input(\"Please Enter Amount for paying: $\"))\n",
    "Balance = 1000\n",
    "\n",
    "if PaidAmount == BillingAmount:\n",
    "    Balance +=  (BillingAmount * (1/100))\n",
    "    Balance = str(Balance)\n",
    "    print(\"Your Balance is: $\" + Balance)\n",
    "    \n",
    "elif PaidAmount == (BillingAmount/2):\n",
    "        Penalty = (BillingAmount * (5 / 100))\n",
    "        Balance = Balance - Penalty\n",
    "        Balance = str(Balance)\n",
    "        Penalty = str(Penalty)\n",
    "        print(\"Your Penalty is: $\" + Penalty)\n",
    "        print(\"Your Balance after penalty is: $\" + Balance)\n",
    "    \n",
    "elif (PaidAmount < (BillingAmount/2) and PaidAmount >= (BillingAmount * 0.2)):\n",
    "        Penalty = (BillingAmount * (10 / 100))\n",
    "        Balance = Balance - Penalty\n",
    "        Balance = str(Balance)\n",
    "        Penalty = str(Penalty)\n",
    "        print(\"Your Penalty is: $\" + Penalty)\n",
    "        print(\"Your Balance after penalty is: $\" + Balance)\n",
    "elif PaidAmount <  (BillingAmount * 0.2):\n",
    "        Penalty = (BillingAmount * (20 / 100))\n",
    "        Balance = Balance - Penalty\n",
    "        Balance = str(Balance)\n",
    "        Penalty = str(Penalty)\n",
    "        print(\"Your Penalty is: $\" + Penalty)\n",
    "        print(\"Your Balance after penalty is: $\" + Balance)\n",
    "else :\n",
    "   print(\"Erorr\")"
   ]
  },
  {
   "cell_type": "markdown",
   "id": "23d65d20",
   "metadata": {},
   "source": [
    "### Task 2 "
   ]
  },
  {
   "cell_type": "code",
   "execution_count": 66,
   "id": "39613f11",
   "metadata": {},
   "outputs": [
    {
     "name": "stdout",
     "output_type": "stream",
     "text": [
      "[5, 10, 15, 25, 50]\n"
     ]
    }
   ],
   "source": [
    "list = [5, 10, 15, 20, 25, 50, 20]\n",
    "for x in list:\n",
    "    if x == 20:\n",
    "        list.remove(x)\n",
    "print (list)"
   ]
  },
  {
   "cell_type": "markdown",
   "id": "e8f45af0",
   "metadata": {},
   "source": [
    "### Task 3"
   ]
  },
  {
   "cell_type": "code",
   "execution_count": 1,
   "id": "ae085bee",
   "metadata": {},
   "outputs": [
    {
     "name": "stdout",
     "output_type": "stream",
     "text": [
      "[5, 10, 15, 200, 25, 50, 20]\n"
     ]
    }
   ],
   "source": [
    "list = [5, 10, 15, 20, 25, 50, 20]\n",
    "for x in list[1:4]:\n",
    "    if x == 20:\n",
    "        list.remove(x)\n",
    "        list.insert(3, 200)\n",
    "print(list)"
   ]
  },
  {
   "cell_type": "markdown",
   "id": "a024fea4",
   "metadata": {},
   "source": [
    "### Task 4"
   ]
  },
  {
   "cell_type": "code",
   "execution_count": 61,
   "id": "fda622b6",
   "metadata": {},
   "outputs": [
    {
     "name": "stdout",
     "output_type": "stream",
     "text": [
      "All items are not same\n"
     ]
    }
   ],
   "source": [
    "tuple = (\"JJ\", \"JJ\", \"JJ\", \"J\")\n",
    "x = tuple[0:4]\n",
    "if x[0] == x[1] == x[2] == x[3]:\n",
    "    print(\"All the items in tuple are same\")\n",
    "else :\n",
    "    print(\"All items are not same\")"
   ]
  },
  {
   "cell_type": "markdown",
   "id": "eacb4439",
   "metadata": {},
   "source": [
    "### Task 5"
   ]
  },
  {
   "cell_type": "code",
   "execution_count": 63,
   "id": "779a52e8",
   "metadata": {},
   "outputs": [
    {
     "name": "stdout",
     "output_type": "stream",
     "text": [
      "\n",
      "\n",
      "1 2 3 Umar Mustafa 6 7 Umar 9 Mustafa \n",
      "\n",
      "11 Umar 13 14 Mustafa Umar 17 18 19 200365 \n",
      "\n",
      "21 22 23 Umar Mustafa 26 27 Umar 29 Mustafa \n",
      "\n",
      "31 Umar 33 34 Mustafa Umar 37 38 39 200365 "
     ]
    }
   ],
   "source": [
    "for i in range(1,41):\n",
    "    if i%10==1:\n",
    "        print(\"\\n\")\n",
    "    \n",
    "    if i%4==0 and i % 5== 0:                      \n",
    "        print(\"200365\", end=\" \")\n",
    "    \n",
    "    elif (i % 4 == 0)  :     \n",
    "        print(\"Umar\", end=\" \")\n",
    "\n",
    "    elif ((i%5) == 0) :  \n",
    "        print(\"Mustafa\", end=\" \")               \n",
    "        \n",
    "    else:\n",
    "        print(i, end=\" \")"
   ]
  }
 ],
 "metadata": {
  "kernelspec": {
   "display_name": "Python 3 (ipykernel)",
   "language": "python",
   "name": "python3"
  },
  "language_info": {
   "codemirror_mode": {
    "name": "ipython",
    "version": 3
   },
   "file_extension": ".py",
   "mimetype": "text/x-python",
   "name": "python",
   "nbconvert_exporter": "python",
   "pygments_lexer": "ipython3",
   "version": "3.9.7"
  }
 },
 "nbformat": 4,
 "nbformat_minor": 5
}
